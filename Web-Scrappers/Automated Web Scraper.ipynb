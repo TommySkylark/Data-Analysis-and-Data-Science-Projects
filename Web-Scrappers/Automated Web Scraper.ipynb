{
 "cells": [
  {
   "cell_type": "code",
   "execution_count": 2,
   "id": "9b2a438c",
   "metadata": {},
   "outputs": [],
   "source": [
    "from bs4 import BeautifulSoup\n",
    "import requests"
   ]
  },
  {
   "cell_type": "code",
   "execution_count": 1,
   "id": "010cf62f",
   "metadata": {},
   "outputs": [],
   "source": [
    "print(soup)"
   ]
  },
  {
   "cell_type": "code",
   "execution_count": 4,
   "id": "ec0ef076",
   "metadata": {},
   "outputs": [],
   "source": [
    "url = 'https://coinmarketcap.com/currencies/bitcoin/'\n",
    "page = requests.get(url)\n",
    "\n",
    "soup = BeautifulSoup(page.text, 'html')"
   ]
  },
  {
   "cell_type": "code",
   "execution_count": 62,
   "id": "0f4b6827",
   "metadata": {},
   "outputs": [
    {
     "data": {
      "text/plain": [
       "<span class=\"sc-f70bb44c-0 jltoa\" data-role=\"coin-name\" title=\"Bitcoin\">Bitcoin<span class=\"sc-f70bb44c-0 iQEJet coin-name-mobile\"> price</span> </span>"
      ]
     },
     "execution_count": 62,
     "metadata": {},
     "output_type": "execute_result"
    }
   ],
   "source": [
    "soup.find('span', class_='sc-f70bb44c-0 jltoa')"
   ]
  },
  {
   "cell_type": "code",
   "execution_count": null,
   "id": "0ec35fdf",
   "metadata": {},
   "outputs": [],
   "source": [
    "<span data-role=\"coin-name\" title=\"Bitcoin\" class=\"sc-f70bb44c-0 jltoa\">Bitcoin<span class=\"sc-f70bb44c-0 iQEJet coin-name-mobile\"> price</span>&nbsp;</span>"
   ]
  },
  {
   "cell_type": "code",
   "execution_count": 63,
   "id": "0f0bd661",
   "metadata": {},
   "outputs": [
    {
     "data": {
      "text/plain": [
       "'Bitcoin price\\xa0'"
      ]
     },
     "execution_count": 63,
     "metadata": {},
     "output_type": "execute_result"
    }
   ],
   "source": [
    "soup.find('span', class_='sc-f70bb44c-0 jltoa').text\n"
   ]
  },
  {
   "cell_type": "code",
   "execution_count": 119,
   "id": "e43b755b",
   "metadata": {},
   "outputs": [
    {
     "name": "stdout",
     "output_type": "stream",
     "text": [
      "Bitcoin price \n"
     ]
    }
   ],
   "source": [
    "crypto = soup.find('span', class_='sc-f70bb44c-0 jltoa').text\n",
    "print(crypto)\n"
   ]
  },
  {
   "cell_type": "code",
   "execution_count": 129,
   "id": "014edbb1",
   "metadata": {},
   "outputs": [
    {
     "name": "stdout",
     "output_type": "stream",
     "text": [
      "Bitcoin  \n"
     ]
    }
   ],
   "source": [
    "crypto_name = crypto.replace('price','')\n",
    "print(crypto_name)"
   ]
  },
  {
   "cell_type": "code",
   "execution_count": 34,
   "id": "a5ae9b16",
   "metadata": {},
   "outputs": [
    {
     "data": {
      "text/plain": [
       "'$40,784.36'"
      ]
     },
     "execution_count": 34,
     "metadata": {},
     "output_type": "execute_result"
    }
   ],
   "source": [
    "soup.find('span', class_='sc-f70bb44c-0 jxpCgO base-text').text"
   ]
  },
  {
   "cell_type": "code",
   "execution_count": 98,
   "id": "4ce0add0",
   "metadata": {},
   "outputs": [],
   "source": [
    "crypto_price = soup.find('span', class_='sc-f70bb44c-0 jxpCgO base-text').text"
   ]
  },
  {
   "cell_type": "code",
   "execution_count": 99,
   "id": "afaa018a",
   "metadata": {},
   "outputs": [],
   "source": [
    "final_price = crypto_price.replace('$', '')"
   ]
  },
  {
   "cell_type": "code",
   "execution_count": 100,
   "id": "2b82dbb8",
   "metadata": {},
   "outputs": [
    {
     "data": {
      "text/plain": [
       "'40,784.36'"
      ]
     },
     "execution_count": 100,
     "metadata": {},
     "output_type": "execute_result"
    }
   ],
   "source": [
    "final_price"
   ]
  },
  {
   "cell_type": "code",
   "execution_count": 101,
   "id": "6b2339f1",
   "metadata": {},
   "outputs": [],
   "source": [
    "import pandas as pd"
   ]
  },
  {
   "cell_type": "code",
   "execution_count": 102,
   "id": "b53ec0ba",
   "metadata": {},
   "outputs": [
    {
     "name": "stdout",
     "output_type": "stream",
     "text": [
      "2024-01-22 12:25:10.159576\n"
     ]
    }
   ],
   "source": [
    "from datetime import datetime\n",
    "\n",
    "date_time = datetime.now()\n",
    "\n",
    "print(dt)"
   ]
  },
  {
   "cell_type": "code",
   "execution_count": 103,
   "id": "86034631",
   "metadata": {},
   "outputs": [
    {
     "data": {
      "text/html": [
       "<div>\n",
       "<style scoped>\n",
       "    .dataframe tbody tr th:only-of-type {\n",
       "        vertical-align: middle;\n",
       "    }\n",
       "\n",
       "    .dataframe tbody tr th {\n",
       "        vertical-align: top;\n",
       "    }\n",
       "\n",
       "    .dataframe thead th {\n",
       "        text-align: right;\n",
       "    }\n",
       "</style>\n",
       "<table border=\"1\" class=\"dataframe\">\n",
       "  <thead>\n",
       "    <tr style=\"text-align: right;\">\n",
       "      <th></th>\n",
       "      <th>Crypto Name</th>\n",
       "      <th>Price</th>\n",
       "      <th>TimeStamp</th>\n",
       "    </tr>\n",
       "  </thead>\n",
       "  <tbody>\n",
       "    <tr>\n",
       "      <th>0</th>\n",
       "      <td>Bitcoin</td>\n",
       "      <td>40,784.36</td>\n",
       "      <td>2024-01-22 12:37:22.928052</td>\n",
       "    </tr>\n",
       "  </tbody>\n",
       "</table>\n",
       "</div>"
      ],
      "text/plain": [
       "  Crypto Name      Price                  TimeStamp\n",
       "0   Bitcoin    40,784.36 2024-01-22 12:37:22.928052"
      ]
     },
     "execution_count": 103,
     "metadata": {},
     "output_type": "execute_result"
    }
   ],
   "source": [
    "date_time = datetime.now()\n",
    "\n",
    "dict = {'Crypto Name':crypto_name,\n",
    "       'Price':final_price,\n",
    "       'TimeStamp': date_time}\n",
    "\n",
    "df = pd.DataFrame([dict])\n",
    "df"
   ]
  },
  {
   "cell_type": "code",
   "execution_count": 104,
   "id": "0e3a67e7",
   "metadata": {},
   "outputs": [],
   "source": [
    "df.to_csv(r'C:\\YOURPATH\\CryptoWebScraper\\Crypto_Automated_Pull.csv')"
   ]
  },
  {
   "cell_type": "code",
   "execution_count": 105,
   "id": "7bdd01b8",
   "metadata": {},
   "outputs": [],
   "source": [
    "import os"
   ]
  },
  {
   "cell_type": "code",
   "execution_count": 109,
   "id": "73446d5a",
   "metadata": {},
   "outputs": [],
   "source": [
    "if os.path.exists(r'C:\\YOURPATH\\CryptoWebScraper\\Crypto_Automated_Pull.csv'):\n",
    "    df.to_csv(r'C:\\YOURPATH\\CryptoWebScraper\\Crypto_Automated_Pull.csv', mode='a', header = False, index = False)\n",
    "else:\n",
    "    df.to_csv(r'C:\\YOURPATH\\CryptoWebScraper\\Crypto_Automated_Pull.csv')"
   ]
  },
  {
   "cell_type": "code",
   "execution_count": null,
   "id": "c046186e",
   "metadata": {},
   "outputs": [],
   "source": [
    "# Automation"
   ]
  },
  {
   "cell_type": "code",
   "execution_count": 130,
   "id": "7f2a67d8",
   "metadata": {},
   "outputs": [],
   "source": [
    "from bs4 import BeautifulSoup\n",
    "import requests\n",
    "import pandas as pd\n",
    "from datetime import datetime\n",
    "import os\n",
    "import time"
   ]
  },
  {
   "cell_type": "code",
   "execution_count": 133,
   "id": "b2eb8aeb",
   "metadata": {},
   "outputs": [],
   "source": [
    "\n",
    "def automated_crypto_pull():\n",
    "    url = 'https://coinmarketcap.com/currencies/bitcoin/'\n",
    "    page = requests.get(url)\n",
    "\n",
    "    soup = BeautifulSoup(page.text, 'html')\n",
    "\n",
    "    crypto = soup.find('span', class_='sc-f70bb44c-0 jltoa').text\n",
    "    crypto_name = crypto.replace('price','')\n",
    "    crypto_price = soup.find('span', class_='sc-f70bb44c-0 jxpCgO base-text').text\n",
    "    final_price = crypto_price.replace('$', '')\n",
    "\n",
    "    date_time = datetime.now()\n",
    "\n",
    "    dict = {'Crypto Name':crypto_name,\n",
    "           'Price':final_price,\n",
    "           'TimeStamp': date_time}\n",
    "\n",
    "    df = pd.DataFrame([dict])\n",
    "\n",
    "    if os.path.exists(r'C:\\YOURPATH\\CryptoWebScraper\\Crypto_Automated_Pull.csv'):\n",
    "        df.to_csv(r'C:YOURPATH\\CryptoWebScraper\\Crypto_Automated_Pull.csv', mode='a', header = False, index = False)\n",
    "    else:\n",
    "        df.to_csv(r'C:YOURPATH\\CryptoWebScraper\\Crypto_Automated_Pull.csv', index = False)\n",
    "\n",
    "    print(df)"
   ]
  },
  {
   "cell_type": "code",
   "execution_count": 2,
   "id": "b46fc66a",
   "metadata": {},
   "outputs": [],
   "source": [
    "while True:\n",
    "    automated_crypto_pull()\n",
    "    time.sleep(3600)"
   ]
  },
  {
   "cell_type": "code",
   "execution_count": null,
   "id": "71a0f4c6",
   "metadata": {},
   "outputs": [],
   "source": []
  }
 ],
 "metadata": {
  "kernelspec": {
   "display_name": "Python 3 (ipykernel)",
   "language": "python",
   "name": "python3"
  },
  "language_info": {
   "codemirror_mode": {
    "name": "ipython",
    "version": 3
   },
   "file_extension": ".py",
   "mimetype": "text/x-python",
   "name": "python",
   "nbconvert_exporter": "python",
   "pygments_lexer": "ipython3",
   "version": "3.11.5"
  }
 },
 "nbformat": 4,
 "nbformat_minor": 5
}
