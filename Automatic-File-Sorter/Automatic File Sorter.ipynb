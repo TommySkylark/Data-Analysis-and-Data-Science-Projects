{
 "cells": [
  {
   "cell_type": "code",
   "execution_count": 37,
   "id": "7600eb49",
   "metadata": {},
   "outputs": [],
   "source": [
    "import os, shutil"
   ]
  },
  {
   "cell_type": "code",
   "execution_count": 31,
   "id": "3d8ab34b",
   "metadata": {},
   "outputs": [],
   "source": [
    "path = r\"C:\\\\YOURPATH\\\\File_Sorter\\\\\""
   ]
  },
  {
   "cell_type": "code",
   "execution_count": 32,
   "id": "b221accb",
   "metadata": {},
   "outputs": [
    {
     "data": {
      "text/plain": [
       "['CSV Files', 'Image Folder', 'Text Files']"
      ]
     },
     "execution_count": 32,
     "metadata": {},
     "output_type": "execute_result"
    }
   ],
   "source": [
    "os.listdir(path)"
   ]
  },
  {
   "cell_type": "code",
   "execution_count": null,
   "id": "e1c95bdf",
   "metadata": {},
   "outputs": [],
   "source": [
    "# os.makedirs(path + new_folder_name)"
   ]
  },
  {
   "cell_type": "code",
   "execution_count": 33,
   "id": "1624ccc5",
   "metadata": {},
   "outputs": [],
   "source": [
    "folder_names = ['CSV Files', 'Text Files', 'Image Folder']\n",
    "for folder in folder_names:\n",
    "    full_path = os.path.join(path, folder)\n",
    "    if not os.path.exists(full_path):\n",
    "        os.makedirs(full_path)"
   ]
  },
  {
   "cell_type": "code",
   "execution_count": 34,
   "id": "cb27322f",
   "metadata": {},
   "outputs": [
    {
     "data": {
      "text/plain": [
       "['CSV Files', 'Image Folder', 'Text Files']"
      ]
     },
     "execution_count": 34,
     "metadata": {},
     "output_type": "execute_result"
    }
   ],
   "source": [
    "os.listdir(path)"
   ]
  },
  {
   "cell_type": "code",
   "execution_count": 35,
   "id": "3aefd049",
   "metadata": {},
   "outputs": [],
   "source": [
    "file_names = os.listdir(path)"
   ]
  },
  {
   "cell_type": "code",
   "execution_count": 36,
   "id": "c6ce6cf8",
   "metadata": {
    "scrolled": true
   },
   "outputs": [],
   "source": [
    "for file in file_names:\n",
    "    src_file = os.path.join(path, file)\n",
    "    if \".csv\" in file and not os.path.exists(os.path.join(path, \"CSV Files\", file)):\n",
    "        shutil.move(src_file, os.path.join(path, \"CSV Files\", file))\n",
    "    elif \".png\" in file and not os.path.exists(os.path.join(path, \"Image Folder\", file)):\n",
    "        shutil.move(src_file, os.path.join(path, \"Image Folder\", file))\n",
    "    elif \".txt\" in file and not os.path.exists(os.path.join(path, \"Text Files\", file)):\n",
    "        shutil.move(src_file, os.path.join(path, \"Text Files\", file))"
   ]
  },
  {
   "cell_type": "code",
   "execution_count": 45,
   "id": "3e6b88c3",
   "metadata": {},
   "outputs": [],
   "source": [
    "path = r\"C:\\YOURPATH\\\\File_Sorter\\\\\"\n",
    "\n",
    "folder_names = ['CSV Files', 'Text Files', 'Image Folder']\n",
    "for folder in folder_names:\n",
    "    if not os.path.exists(path + folder):\n",
    "        os.makedirs(path + folder)\n",
    "        \n",
    "file_names = os.listdir(path)\n",
    "\n",
    "for file in file_names:\n",
    "    src_file = os.path.join(path, file)\n",
    "    if \".csv\" in file and not os.path.exists(os.path.join(path, \"CSV Files\\\\\", file)):\n",
    "        shutil.move(src_file, os.path.join(path, \"CSV Files\\\\\", file))\n",
    "    elif \".png\" in file and not os.path.exists(os.path.join(path, \"Image Folder\\\\\", file)):\n",
    "        shutil.move(src_file, os.path.join(path, \"Image Folder\\\\\", file))\n",
    "    elif \".txt\" in file and not os.path.exists(os.path.join(path, \"Text Files\\\\\", file)):\n",
    "        shutil.move(src_file, os.path.join(path, \"Text Files\\\\\", file))"
   ]
  },
  {
   "cell_type": "code",
   "execution_count": null,
   "id": "141260bf",
   "metadata": {},
   "outputs": [],
   "source": []
  },
  {
   "cell_type": "code",
   "execution_count": null,
   "id": "69fe9fa0",
   "metadata": {},
   "outputs": [],
   "source": []
  },
  {
   "cell_type": "code",
   "execution_count": null,
   "id": "6c66c5c3",
   "metadata": {},
   "outputs": [],
   "source": []
  },
  {
   "cell_type": "code",
   "execution_count": null,
   "id": "fbadea64",
   "metadata": {},
   "outputs": [],
   "source": []
  },
  {
   "cell_type": "code",
   "execution_count": null,
   "id": "3fbabbb4",
   "metadata": {},
   "outputs": [],
   "source": []
  }
 ],
 "metadata": {
  "kernelspec": {
   "display_name": "Python 3 (ipykernel)",
   "language": "python",
   "name": "python3"
  },
  "language_info": {
   "codemirror_mode": {
    "name": "ipython",
    "version": 3
   },
   "file_extension": ".py",
   "mimetype": "text/x-python",
   "name": "python",
   "nbconvert_exporter": "python",
   "pygments_lexer": "ipython3",
   "version": "3.11.5"
  }
 },
 "nbformat": 4,
 "nbformat_minor": 5
}
